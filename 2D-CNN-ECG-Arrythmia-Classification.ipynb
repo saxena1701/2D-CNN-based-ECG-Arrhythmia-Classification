{
  "cells": [
    {
      "cell_type": "markdown",
      "metadata": {
        "id": "QxpO46Ul8qp0",
        "nbgrader": {
          "grade": false,
          "locked": true,
          "solution": false
        }
      },
      "source": [
        "## ProjF5 - Final Model\n",
        "\n",
        "Use this document as a template to provide the evaluation of your final model. You are welcome to go in as much depth as needed.\n",
        "\n",
        "Make sure you keep the sections specified in this template, but you are welcome to add more cells with your code or explanation as needed."
      ]
    },
    {
      "cell_type": "code",
      "execution_count": null,
      "metadata": {
        "execution": {
          "iopub.execute_input": "2024-04-20T20:24:06.261037Z",
          "iopub.status.busy": "2024-04-20T20:24:06.260646Z",
          "iopub.status.idle": "2024-04-20T20:24:07.547314Z",
          "shell.execute_reply": "2024-04-20T20:24:07.545851Z",
          "shell.execute_reply.started": "2024-04-20T20:24:06.261005Z"
        },
        "id": "ibqBgqcr8qp3",
        "nbgrader": {
          "grade": false,
          "locked": true,
          "solution": false
        },
        "trusted": true
      },
      "outputs": [],
      "source": [
        "import numpy as np\n",
        "import matplotlib.pyplot as plt\n",
        "import pandas as pd\n",
        "import os\n"
      ]
    },
    {
      "cell_type": "markdown",
      "metadata": {
        "id": "mRoO0hXy8Ioi"
      },
      "source": []
    },
    {
      "cell_type": "markdown",
      "metadata": {
        "id": "DVrK750r8qp4",
        "nbgrader": {
          "grade": false,
          "locked": true,
          "solution": false
        }
      },
      "source": [
        "### 1. Load and Prepare Data\n",
        "\n",
        "This should illustrate your code for loading the dataset and the split into training, validation and testing. You can add steps like pre-processing if needed."
      ]
    },
    {
      "cell_type": "markdown",
      "metadata": {
        "id": "jEzyQBZ4dCf3"
      },
      "source": [
        "**1.1 LOADING TRAINNING AND TESTING DATA**\n",
        "\n",
        "The training and testing data was uploaded on kaggle for ease of usability.\n",
        "\n",
        "LINKS :\n",
        "\n",
        "ORIGINAL DATA : https://www.kaggle.com/datasets/asaxen1701/ecgdataset\n",
        "\n",
        "IMAGE DATA TESTING : https://www.kaggle.com/datasets/asaxen1701/resized-dataset-test\n",
        "\n",
        "IMAGE DATA TRAINING : https://www.kaggle.com/datasets/asaxen1701/resized-dataset"
      ]
    },
    {
      "cell_type": "code",
      "execution_count": null,
      "metadata": {
        "execution": {
          "iopub.execute_input": "2024-04-20T20:24:12.728955Z",
          "iopub.status.busy": "2024-04-20T20:24:12.728439Z",
          "iopub.status.idle": "2024-04-20T20:24:23.172109Z",
          "shell.execute_reply": "2024-04-20T20:24:23.171048Z",
          "shell.execute_reply.started": "2024-04-20T20:24:12.728922Z"
        },
        "id": "I9h-78o0z6wU",
        "trusted": true
      },
      "outputs": [],
      "source": [
        "train_data = pd.read_csv('/kaggle/input/ecgdataset/train_data.csv')\n",
        "test_data = pd.read_csv('/kaggle/input/ecgdataset/test_data.csv')\n",
        "\n",
        "row_length = len(train_data.iloc[0,:])\n",
        "new_columns = list(range(0, row_length))\n",
        "\n",
        "# Replace column names\n",
        "train_data.columns = new_columns\n",
        "test_data.columns = new_columns\n"
      ]
    },
    {
      "cell_type": "code",
      "execution_count": null,
      "metadata": {
        "colab": {
          "base_uri": "https://localhost:8080/",
          "height": 444
        },
        "execution": {
          "iopub.execute_input": "2024-04-20T20:24:23.173743Z",
          "iopub.status.busy": "2024-04-20T20:24:23.173432Z",
          "iopub.status.idle": "2024-04-20T20:24:23.227201Z",
          "shell.execute_reply": "2024-04-20T20:24:23.226042Z",
          "shell.execute_reply.started": "2024-04-20T20:24:23.173716Z"
        },
        "id": "yfbD5uJpz_n1",
        "outputId": "932ee8f0-5e11-4be8-a9fd-9ff719472843",
        "trusted": true
      },
      "outputs": [
        {
          "data": {
            "text/html": [
              "<div>\n",
              "<style scoped>\n",
              "    .dataframe tbody tr th:only-of-type {\n",
              "        vertical-align: middle;\n",
              "    }\n",
              "\n",
              "    .dataframe tbody tr th {\n",
              "        vertical-align: top;\n",
              "    }\n",
              "\n",
              "    .dataframe thead th {\n",
              "        text-align: right;\n",
              "    }\n",
              "</style>\n",
              "<table border=\"1\" class=\"dataframe\">\n",
              "  <thead>\n",
              "    <tr style=\"text-align: right;\">\n",
              "      <th></th>\n",
              "      <th>0</th>\n",
              "      <th>1</th>\n",
              "      <th>2</th>\n",
              "      <th>3</th>\n",
              "      <th>4</th>\n",
              "      <th>5</th>\n",
              "      <th>6</th>\n",
              "      <th>7</th>\n",
              "      <th>8</th>\n",
              "      <th>9</th>\n",
              "      <th>...</th>\n",
              "      <th>178</th>\n",
              "      <th>179</th>\n",
              "      <th>180</th>\n",
              "      <th>181</th>\n",
              "      <th>182</th>\n",
              "      <th>183</th>\n",
              "      <th>184</th>\n",
              "      <th>185</th>\n",
              "      <th>186</th>\n",
              "      <th>187</th>\n",
              "    </tr>\n",
              "  </thead>\n",
              "  <tbody>\n",
              "    <tr>\n",
              "      <th>0</th>\n",
              "      <td>0.960114</td>\n",
              "      <td>0.863248</td>\n",
              "      <td>0.461538</td>\n",
              "      <td>0.196581</td>\n",
              "      <td>0.094017</td>\n",
              "      <td>0.125356</td>\n",
              "      <td>0.099715</td>\n",
              "      <td>0.088319</td>\n",
              "      <td>0.074074</td>\n",
              "      <td>0.082621</td>\n",
              "      <td>...</td>\n",
              "      <td>0.0</td>\n",
              "      <td>0.0</td>\n",
              "      <td>0.0</td>\n",
              "      <td>0.0</td>\n",
              "      <td>0.0</td>\n",
              "      <td>0.0</td>\n",
              "      <td>0.0</td>\n",
              "      <td>0.0</td>\n",
              "      <td>0.0</td>\n",
              "      <td>0.0</td>\n",
              "    </tr>\n",
              "    <tr>\n",
              "      <th>1</th>\n",
              "      <td>1.000000</td>\n",
              "      <td>0.659459</td>\n",
              "      <td>0.186486</td>\n",
              "      <td>0.070270</td>\n",
              "      <td>0.070270</td>\n",
              "      <td>0.059459</td>\n",
              "      <td>0.056757</td>\n",
              "      <td>0.043243</td>\n",
              "      <td>0.054054</td>\n",
              "      <td>0.045946</td>\n",
              "      <td>...</td>\n",
              "      <td>0.0</td>\n",
              "      <td>0.0</td>\n",
              "      <td>0.0</td>\n",
              "      <td>0.0</td>\n",
              "      <td>0.0</td>\n",
              "      <td>0.0</td>\n",
              "      <td>0.0</td>\n",
              "      <td>0.0</td>\n",
              "      <td>0.0</td>\n",
              "      <td>0.0</td>\n",
              "    </tr>\n",
              "    <tr>\n",
              "      <th>2</th>\n",
              "      <td>0.925414</td>\n",
              "      <td>0.665746</td>\n",
              "      <td>0.541436</td>\n",
              "      <td>0.276243</td>\n",
              "      <td>0.196133</td>\n",
              "      <td>0.077348</td>\n",
              "      <td>0.071823</td>\n",
              "      <td>0.060773</td>\n",
              "      <td>0.066298</td>\n",
              "      <td>0.058011</td>\n",
              "      <td>...</td>\n",
              "      <td>0.0</td>\n",
              "      <td>0.0</td>\n",
              "      <td>0.0</td>\n",
              "      <td>0.0</td>\n",
              "      <td>0.0</td>\n",
              "      <td>0.0</td>\n",
              "      <td>0.0</td>\n",
              "      <td>0.0</td>\n",
              "      <td>0.0</td>\n",
              "      <td>0.0</td>\n",
              "    </tr>\n",
              "    <tr>\n",
              "      <th>3</th>\n",
              "      <td>0.967136</td>\n",
              "      <td>1.000000</td>\n",
              "      <td>0.830986</td>\n",
              "      <td>0.586854</td>\n",
              "      <td>0.356808</td>\n",
              "      <td>0.248826</td>\n",
              "      <td>0.145540</td>\n",
              "      <td>0.089202</td>\n",
              "      <td>0.117371</td>\n",
              "      <td>0.150235</td>\n",
              "      <td>...</td>\n",
              "      <td>0.0</td>\n",
              "      <td>0.0</td>\n",
              "      <td>0.0</td>\n",
              "      <td>0.0</td>\n",
              "      <td>0.0</td>\n",
              "      <td>0.0</td>\n",
              "      <td>0.0</td>\n",
              "      <td>0.0</td>\n",
              "      <td>0.0</td>\n",
              "      <td>0.0</td>\n",
              "    </tr>\n",
              "    <tr>\n",
              "      <th>4</th>\n",
              "      <td>0.927461</td>\n",
              "      <td>1.000000</td>\n",
              "      <td>0.626943</td>\n",
              "      <td>0.193437</td>\n",
              "      <td>0.094991</td>\n",
              "      <td>0.072539</td>\n",
              "      <td>0.043178</td>\n",
              "      <td>0.053541</td>\n",
              "      <td>0.093264</td>\n",
              "      <td>0.189983</td>\n",
              "      <td>...</td>\n",
              "      <td>0.0</td>\n",
              "      <td>0.0</td>\n",
              "      <td>0.0</td>\n",
              "      <td>0.0</td>\n",
              "      <td>0.0</td>\n",
              "      <td>0.0</td>\n",
              "      <td>0.0</td>\n",
              "      <td>0.0</td>\n",
              "      <td>0.0</td>\n",
              "      <td>0.0</td>\n",
              "    </tr>\n",
              "    <tr>\n",
              "      <th>...</th>\n",
              "      <td>...</td>\n",
              "      <td>...</td>\n",
              "      <td>...</td>\n",
              "      <td>...</td>\n",
              "      <td>...</td>\n",
              "      <td>...</td>\n",
              "      <td>...</td>\n",
              "      <td>...</td>\n",
              "      <td>...</td>\n",
              "      <td>...</td>\n",
              "      <td>...</td>\n",
              "      <td>...</td>\n",
              "      <td>...</td>\n",
              "      <td>...</td>\n",
              "      <td>...</td>\n",
              "      <td>...</td>\n",
              "      <td>...</td>\n",
              "      <td>...</td>\n",
              "      <td>...</td>\n",
              "      <td>...</td>\n",
              "      <td>...</td>\n",
              "    </tr>\n",
              "    <tr>\n",
              "      <th>87548</th>\n",
              "      <td>0.807018</td>\n",
              "      <td>0.494737</td>\n",
              "      <td>0.536842</td>\n",
              "      <td>0.529825</td>\n",
              "      <td>0.491228</td>\n",
              "      <td>0.484211</td>\n",
              "      <td>0.456140</td>\n",
              "      <td>0.396491</td>\n",
              "      <td>0.284211</td>\n",
              "      <td>0.136842</td>\n",
              "      <td>...</td>\n",
              "      <td>0.0</td>\n",
              "      <td>0.0</td>\n",
              "      <td>0.0</td>\n",
              "      <td>0.0</td>\n",
              "      <td>0.0</td>\n",
              "      <td>0.0</td>\n",
              "      <td>0.0</td>\n",
              "      <td>0.0</td>\n",
              "      <td>0.0</td>\n",
              "      <td>4.0</td>\n",
              "    </tr>\n",
              "    <tr>\n",
              "      <th>87549</th>\n",
              "      <td>0.718333</td>\n",
              "      <td>0.605000</td>\n",
              "      <td>0.486667</td>\n",
              "      <td>0.361667</td>\n",
              "      <td>0.231667</td>\n",
              "      <td>0.120000</td>\n",
              "      <td>0.051667</td>\n",
              "      <td>0.001667</td>\n",
              "      <td>0.000000</td>\n",
              "      <td>0.013333</td>\n",
              "      <td>...</td>\n",
              "      <td>0.0</td>\n",
              "      <td>0.0</td>\n",
              "      <td>0.0</td>\n",
              "      <td>0.0</td>\n",
              "      <td>0.0</td>\n",
              "      <td>0.0</td>\n",
              "      <td>0.0</td>\n",
              "      <td>0.0</td>\n",
              "      <td>0.0</td>\n",
              "      <td>4.0</td>\n",
              "    </tr>\n",
              "    <tr>\n",
              "      <th>87550</th>\n",
              "      <td>0.906122</td>\n",
              "      <td>0.624490</td>\n",
              "      <td>0.595918</td>\n",
              "      <td>0.575510</td>\n",
              "      <td>0.530612</td>\n",
              "      <td>0.481633</td>\n",
              "      <td>0.444898</td>\n",
              "      <td>0.387755</td>\n",
              "      <td>0.322449</td>\n",
              "      <td>0.191837</td>\n",
              "      <td>...</td>\n",
              "      <td>0.0</td>\n",
              "      <td>0.0</td>\n",
              "      <td>0.0</td>\n",
              "      <td>0.0</td>\n",
              "      <td>0.0</td>\n",
              "      <td>0.0</td>\n",
              "      <td>0.0</td>\n",
              "      <td>0.0</td>\n",
              "      <td>0.0</td>\n",
              "      <td>4.0</td>\n",
              "    </tr>\n",
              "    <tr>\n",
              "      <th>87551</th>\n",
              "      <td>0.858228</td>\n",
              "      <td>0.645570</td>\n",
              "      <td>0.845570</td>\n",
              "      <td>0.248101</td>\n",
              "      <td>0.167089</td>\n",
              "      <td>0.131646</td>\n",
              "      <td>0.121519</td>\n",
              "      <td>0.121519</td>\n",
              "      <td>0.118987</td>\n",
              "      <td>0.103797</td>\n",
              "      <td>...</td>\n",
              "      <td>0.0</td>\n",
              "      <td>0.0</td>\n",
              "      <td>0.0</td>\n",
              "      <td>0.0</td>\n",
              "      <td>0.0</td>\n",
              "      <td>0.0</td>\n",
              "      <td>0.0</td>\n",
              "      <td>0.0</td>\n",
              "      <td>0.0</td>\n",
              "      <td>4.0</td>\n",
              "    </tr>\n",
              "    <tr>\n",
              "      <th>87552</th>\n",
              "      <td>0.901506</td>\n",
              "      <td>0.845886</td>\n",
              "      <td>0.800695</td>\n",
              "      <td>0.748552</td>\n",
              "      <td>0.687138</td>\n",
              "      <td>0.599073</td>\n",
              "      <td>0.512167</td>\n",
              "      <td>0.427578</td>\n",
              "      <td>0.395133</td>\n",
              "      <td>0.402086</td>\n",
              "      <td>...</td>\n",
              "      <td>0.0</td>\n",
              "      <td>0.0</td>\n",
              "      <td>0.0</td>\n",
              "      <td>0.0</td>\n",
              "      <td>0.0</td>\n",
              "      <td>0.0</td>\n",
              "      <td>0.0</td>\n",
              "      <td>0.0</td>\n",
              "      <td>0.0</td>\n",
              "      <td>4.0</td>\n",
              "    </tr>\n",
              "  </tbody>\n",
              "</table>\n",
              "<p>87553 rows × 188 columns</p>\n",
              "</div>"
            ],
            "text/plain": [
              "            0         1         2         3         4         5         6    \\\n",
              "0      0.960114  0.863248  0.461538  0.196581  0.094017  0.125356  0.099715   \n",
              "1      1.000000  0.659459  0.186486  0.070270  0.070270  0.059459  0.056757   \n",
              "2      0.925414  0.665746  0.541436  0.276243  0.196133  0.077348  0.071823   \n",
              "3      0.967136  1.000000  0.830986  0.586854  0.356808  0.248826  0.145540   \n",
              "4      0.927461  1.000000  0.626943  0.193437  0.094991  0.072539  0.043178   \n",
              "...         ...       ...       ...       ...       ...       ...       ...   \n",
              "87548  0.807018  0.494737  0.536842  0.529825  0.491228  0.484211  0.456140   \n",
              "87549  0.718333  0.605000  0.486667  0.361667  0.231667  0.120000  0.051667   \n",
              "87550  0.906122  0.624490  0.595918  0.575510  0.530612  0.481633  0.444898   \n",
              "87551  0.858228  0.645570  0.845570  0.248101  0.167089  0.131646  0.121519   \n",
              "87552  0.901506  0.845886  0.800695  0.748552  0.687138  0.599073  0.512167   \n",
              "\n",
              "            7         8         9    ...  178  179  180  181  182  183  184  \\\n",
              "0      0.088319  0.074074  0.082621  ...  0.0  0.0  0.0  0.0  0.0  0.0  0.0   \n",
              "1      0.043243  0.054054  0.045946  ...  0.0  0.0  0.0  0.0  0.0  0.0  0.0   \n",
              "2      0.060773  0.066298  0.058011  ...  0.0  0.0  0.0  0.0  0.0  0.0  0.0   \n",
              "3      0.089202  0.117371  0.150235  ...  0.0  0.0  0.0  0.0  0.0  0.0  0.0   \n",
              "4      0.053541  0.093264  0.189983  ...  0.0  0.0  0.0  0.0  0.0  0.0  0.0   \n",
              "...         ...       ...       ...  ...  ...  ...  ...  ...  ...  ...  ...   \n",
              "87548  0.396491  0.284211  0.136842  ...  0.0  0.0  0.0  0.0  0.0  0.0  0.0   \n",
              "87549  0.001667  0.000000  0.013333  ...  0.0  0.0  0.0  0.0  0.0  0.0  0.0   \n",
              "87550  0.387755  0.322449  0.191837  ...  0.0  0.0  0.0  0.0  0.0  0.0  0.0   \n",
              "87551  0.121519  0.118987  0.103797  ...  0.0  0.0  0.0  0.0  0.0  0.0  0.0   \n",
              "87552  0.427578  0.395133  0.402086  ...  0.0  0.0  0.0  0.0  0.0  0.0  0.0   \n",
              "\n",
              "       185  186  187  \n",
              "0      0.0  0.0  0.0  \n",
              "1      0.0  0.0  0.0  \n",
              "2      0.0  0.0  0.0  \n",
              "3      0.0  0.0  0.0  \n",
              "4      0.0  0.0  0.0  \n",
              "...    ...  ...  ...  \n",
              "87548  0.0  0.0  4.0  \n",
              "87549  0.0  0.0  4.0  \n",
              "87550  0.0  0.0  4.0  \n",
              "87551  0.0  0.0  4.0  \n",
              "87552  0.0  0.0  4.0  \n",
              "\n",
              "[87553 rows x 188 columns]"
            ]
          },
          "execution_count": 3,
          "metadata": {},
          "output_type": "execute_result"
        }
      ],
      "source": [
        "train_data"
      ]
    },
    {
      "cell_type": "markdown",
      "metadata": {
        "id": "kFZsKdTPCSEc"
      },
      "source": [
        "**1.2 DATA IMBALANCE HANDLING**\n",
        "\n",
        "This section generates equal number of samples for all the classes in the dataset using oversampling."
      ]
    },
    {
      "cell_type": "code",
      "execution_count": null,
      "metadata": {
        "colab": {
          "base_uri": "https://localhost:8080/",
          "height": 694
        },
        "execution": {
          "iopub.execute_input": "2024-04-20T19:42:23.159801Z",
          "iopub.status.busy": "2024-04-20T19:42:23.159196Z",
          "iopub.status.idle": "2024-04-20T19:42:24.221499Z",
          "shell.execute_reply": "2024-04-20T19:42:24.220138Z",
          "shell.execute_reply.started": "2024-04-20T19:42:23.159758Z"
        },
        "id": "NS-vziY3CRoW",
        "outputId": "da034e7e-05a5-41d6-98b2-29b920dc67e4",
        "trusted": true
      },
      "outputs": [
        {
          "name": "stdout",
          "output_type": "stream",
          "text": [
            "187\n",
            "0.0    72470\n",
            "4.0     6431\n",
            "2.0     5788\n",
            "1.0     2223\n",
            "3.0      641\n",
            "Name: count, dtype: int64\n",
            "187\n",
            "0.0    20000\n",
            "1.0    20000\n",
            "2.0    20000\n",
            "3.0    20000\n",
            "4.0    20000\n",
            "Name: count, dtype: int64\n"
          ]
        }
      ],
      "source": [
        "\n",
        "print(train_data[187].value_counts())\n",
        "\n",
        "from sklearn.utils import resample\n",
        "df_1=train_data[train_data[187]==1]\n",
        "df_2=train_data[train_data[187]==2]\n",
        "df_3=train_data[train_data[187]==3]\n",
        "df_4=train_data[train_data[187]==4]\n",
        "df_0=(train_data[train_data[187]==0]).sample(n=20000,random_state=42)\n",
        "\n",
        "df_1_upsample=resample(df_1,replace=True,n_samples=20000,random_state=123)\n",
        "df_2_upsample=resample(df_2,replace=True,n_samples=20000,random_state=124)\n",
        "df_3_upsample=resample(df_3,replace=True,n_samples=20000,random_state=125)\n",
        "df_4_upsample=resample(df_4,replace=True,n_samples=20000,random_state=126)\n",
        "\n",
        "train_data=pd.concat([df_0,df_1_upsample,df_2_upsample,df_3_upsample,df_4_upsample])\n",
        "train_data.reset_index(drop=True, inplace=True)\n",
        "\n",
        "class_samples = []\n",
        "for class_label in [0, 1, 2, 3, 4]:\n",
        "    class_samples.append(train_data[train_data[187] == class_label].sample(n=20000, random_state=42))\n",
        "\n",
        "# Concatenate the selected samples\n",
        "train_data_selected = pd.concat(class_samples)\n",
        "\n",
        "# Reset the index\n",
        "train_data_selected.reset_index(drop=True, inplace=True)\n",
        "\n",
        "print(train_data_selected[187].value_counts())"
      ]
    },
    {
      "cell_type": "markdown",
      "metadata": {
        "id": "lZ6kZRN3dCf4"
      },
      "source": [
        "**1.3 Class Wise Splitting of Training/Testing Data**\n",
        "\n",
        "This section was used for splitting the training and testing data into respective classes so that the image data could be generated for each of the classes, for both the training and testing dataset."
      ]
    },
    {
      "cell_type": "code",
      "execution_count": null,
      "metadata": {
        "execution": {
          "iopub.execute_input": "2024-04-20T20:24:23.940402Z",
          "iopub.status.busy": "2024-04-20T20:24:23.940038Z",
          "iopub.status.idle": "2024-04-20T20:24:23.985223Z",
          "shell.execute_reply": "2024-04-20T20:24:23.984139Z",
          "shell.execute_reply.started": "2024-04-20T20:24:23.940375Z"
        },
        "trusted": true,
        "id": "9DrvMxAWdCf4",
        "outputId": "9cabc13b-628e-49c8-c56a-e01759d8b718"
      },
      "outputs": [
        {
          "data": {
            "text/html": [
              "<div>\n",
              "<style scoped>\n",
              "    .dataframe tbody tr th:only-of-type {\n",
              "        vertical-align: middle;\n",
              "    }\n",
              "\n",
              "    .dataframe tbody tr th {\n",
              "        vertical-align: top;\n",
              "    }\n",
              "\n",
              "    .dataframe thead th {\n",
              "        text-align: right;\n",
              "    }\n",
              "</style>\n",
              "<table border=\"1\" class=\"dataframe\">\n",
              "  <thead>\n",
              "    <tr style=\"text-align: right;\">\n",
              "      <th></th>\n",
              "      <th>0</th>\n",
              "      <th>1</th>\n",
              "      <th>2</th>\n",
              "      <th>3</th>\n",
              "      <th>4</th>\n",
              "      <th>5</th>\n",
              "      <th>6</th>\n",
              "      <th>7</th>\n",
              "      <th>8</th>\n",
              "      <th>9</th>\n",
              "      <th>...</th>\n",
              "      <th>178</th>\n",
              "      <th>179</th>\n",
              "      <th>180</th>\n",
              "      <th>181</th>\n",
              "      <th>182</th>\n",
              "      <th>183</th>\n",
              "      <th>184</th>\n",
              "      <th>185</th>\n",
              "      <th>186</th>\n",
              "      <th>187</th>\n",
              "    </tr>\n",
              "  </thead>\n",
              "  <tbody>\n",
              "    <tr>\n",
              "      <th>0</th>\n",
              "      <td>1.000000</td>\n",
              "      <td>0.869136</td>\n",
              "      <td>0.540741</td>\n",
              "      <td>0.316049</td>\n",
              "      <td>0.133333</td>\n",
              "      <td>0.103704</td>\n",
              "      <td>0.103704</td>\n",
              "      <td>0.108642</td>\n",
              "      <td>0.101235</td>\n",
              "      <td>0.108642</td>\n",
              "      <td>...</td>\n",
              "      <td>0.0</td>\n",
              "      <td>0.0</td>\n",
              "      <td>0.0</td>\n",
              "      <td>0.0</td>\n",
              "      <td>0.0</td>\n",
              "      <td>0.0</td>\n",
              "      <td>0.0</td>\n",
              "      <td>0.0</td>\n",
              "      <td>0.0</td>\n",
              "      <td>4.0</td>\n",
              "    </tr>\n",
              "    <tr>\n",
              "      <th>1</th>\n",
              "      <td>0.736457</td>\n",
              "      <td>0.644217</td>\n",
              "      <td>0.534407</td>\n",
              "      <td>0.418741</td>\n",
              "      <td>0.298682</td>\n",
              "      <td>0.190337</td>\n",
              "      <td>0.118594</td>\n",
              "      <td>0.071742</td>\n",
              "      <td>0.042460</td>\n",
              "      <td>0.046852</td>\n",
              "      <td>...</td>\n",
              "      <td>0.0</td>\n",
              "      <td>0.0</td>\n",
              "      <td>0.0</td>\n",
              "      <td>0.0</td>\n",
              "      <td>0.0</td>\n",
              "      <td>0.0</td>\n",
              "      <td>0.0</td>\n",
              "      <td>0.0</td>\n",
              "      <td>0.0</td>\n",
              "      <td>4.0</td>\n",
              "    </tr>\n",
              "    <tr>\n",
              "      <th>2</th>\n",
              "      <td>0.732174</td>\n",
              "      <td>0.620870</td>\n",
              "      <td>0.478261</td>\n",
              "      <td>0.339130</td>\n",
              "      <td>0.194783</td>\n",
              "      <td>0.114783</td>\n",
              "      <td>0.033043</td>\n",
              "      <td>0.019130</td>\n",
              "      <td>0.036522</td>\n",
              "      <td>0.085217</td>\n",
              "      <td>...</td>\n",
              "      <td>0.0</td>\n",
              "      <td>0.0</td>\n",
              "      <td>0.0</td>\n",
              "      <td>0.0</td>\n",
              "      <td>0.0</td>\n",
              "      <td>0.0</td>\n",
              "      <td>0.0</td>\n",
              "      <td>0.0</td>\n",
              "      <td>0.0</td>\n",
              "      <td>4.0</td>\n",
              "    </tr>\n",
              "    <tr>\n",
              "      <th>3</th>\n",
              "      <td>1.000000</td>\n",
              "      <td>0.754476</td>\n",
              "      <td>0.473146</td>\n",
              "      <td>0.242967</td>\n",
              "      <td>0.191816</td>\n",
              "      <td>0.189258</td>\n",
              "      <td>0.202046</td>\n",
              "      <td>0.209719</td>\n",
              "      <td>0.219949</td>\n",
              "      <td>0.204604</td>\n",
              "      <td>...</td>\n",
              "      <td>0.0</td>\n",
              "      <td>0.0</td>\n",
              "      <td>0.0</td>\n",
              "      <td>0.0</td>\n",
              "      <td>0.0</td>\n",
              "      <td>0.0</td>\n",
              "      <td>0.0</td>\n",
              "      <td>0.0</td>\n",
              "      <td>0.0</td>\n",
              "      <td>4.0</td>\n",
              "    </tr>\n",
              "    <tr>\n",
              "      <th>4</th>\n",
              "      <td>0.975553</td>\n",
              "      <td>0.910361</td>\n",
              "      <td>0.846333</td>\n",
              "      <td>0.772992</td>\n",
              "      <td>0.689173</td>\n",
              "      <td>0.569267</td>\n",
              "      <td>0.434226</td>\n",
              "      <td>0.292200</td>\n",
              "      <td>0.162980</td>\n",
              "      <td>0.104773</td>\n",
              "      <td>...</td>\n",
              "      <td>0.0</td>\n",
              "      <td>0.0</td>\n",
              "      <td>0.0</td>\n",
              "      <td>0.0</td>\n",
              "      <td>0.0</td>\n",
              "      <td>0.0</td>\n",
              "      <td>0.0</td>\n",
              "      <td>0.0</td>\n",
              "      <td>0.0</td>\n",
              "      <td>4.0</td>\n",
              "    </tr>\n",
              "    <tr>\n",
              "      <th>...</th>\n",
              "      <td>...</td>\n",
              "      <td>...</td>\n",
              "      <td>...</td>\n",
              "      <td>...</td>\n",
              "      <td>...</td>\n",
              "      <td>...</td>\n",
              "      <td>...</td>\n",
              "      <td>...</td>\n",
              "      <td>...</td>\n",
              "      <td>...</td>\n",
              "      <td>...</td>\n",
              "      <td>...</td>\n",
              "      <td>...</td>\n",
              "      <td>...</td>\n",
              "      <td>...</td>\n",
              "      <td>...</td>\n",
              "      <td>...</td>\n",
              "      <td>...</td>\n",
              "      <td>...</td>\n",
              "      <td>...</td>\n",
              "      <td>...</td>\n",
              "    </tr>\n",
              "    <tr>\n",
              "      <th>1603</th>\n",
              "      <td>0.928736</td>\n",
              "      <td>0.871264</td>\n",
              "      <td>0.804598</td>\n",
              "      <td>0.742529</td>\n",
              "      <td>0.650575</td>\n",
              "      <td>0.535632</td>\n",
              "      <td>0.394253</td>\n",
              "      <td>0.250575</td>\n",
              "      <td>0.140230</td>\n",
              "      <td>0.102299</td>\n",
              "      <td>...</td>\n",
              "      <td>0.0</td>\n",
              "      <td>0.0</td>\n",
              "      <td>0.0</td>\n",
              "      <td>0.0</td>\n",
              "      <td>0.0</td>\n",
              "      <td>0.0</td>\n",
              "      <td>0.0</td>\n",
              "      <td>0.0</td>\n",
              "      <td>0.0</td>\n",
              "      <td>4.0</td>\n",
              "    </tr>\n",
              "    <tr>\n",
              "      <th>1604</th>\n",
              "      <td>0.802691</td>\n",
              "      <td>0.692078</td>\n",
              "      <td>0.587444</td>\n",
              "      <td>0.446936</td>\n",
              "      <td>0.318386</td>\n",
              "      <td>0.189836</td>\n",
              "      <td>0.118087</td>\n",
              "      <td>0.077728</td>\n",
              "      <td>0.112108</td>\n",
              "      <td>0.152466</td>\n",
              "      <td>...</td>\n",
              "      <td>0.0</td>\n",
              "      <td>0.0</td>\n",
              "      <td>0.0</td>\n",
              "      <td>0.0</td>\n",
              "      <td>0.0</td>\n",
              "      <td>0.0</td>\n",
              "      <td>0.0</td>\n",
              "      <td>0.0</td>\n",
              "      <td>0.0</td>\n",
              "      <td>4.0</td>\n",
              "    </tr>\n",
              "    <tr>\n",
              "      <th>1605</th>\n",
              "      <td>1.000000</td>\n",
              "      <td>0.967359</td>\n",
              "      <td>0.620178</td>\n",
              "      <td>0.347181</td>\n",
              "      <td>0.139466</td>\n",
              "      <td>0.089021</td>\n",
              "      <td>0.103858</td>\n",
              "      <td>0.100890</td>\n",
              "      <td>0.106825</td>\n",
              "      <td>0.100890</td>\n",
              "      <td>...</td>\n",
              "      <td>0.0</td>\n",
              "      <td>0.0</td>\n",
              "      <td>0.0</td>\n",
              "      <td>0.0</td>\n",
              "      <td>0.0</td>\n",
              "      <td>0.0</td>\n",
              "      <td>0.0</td>\n",
              "      <td>0.0</td>\n",
              "      <td>0.0</td>\n",
              "      <td>4.0</td>\n",
              "    </tr>\n",
              "    <tr>\n",
              "      <th>1606</th>\n",
              "      <td>0.984127</td>\n",
              "      <td>0.567460</td>\n",
              "      <td>0.607143</td>\n",
              "      <td>0.583333</td>\n",
              "      <td>0.607143</td>\n",
              "      <td>0.575397</td>\n",
              "      <td>0.575397</td>\n",
              "      <td>0.488095</td>\n",
              "      <td>0.392857</td>\n",
              "      <td>0.238095</td>\n",
              "      <td>...</td>\n",
              "      <td>0.0</td>\n",
              "      <td>0.0</td>\n",
              "      <td>0.0</td>\n",
              "      <td>0.0</td>\n",
              "      <td>0.0</td>\n",
              "      <td>0.0</td>\n",
              "      <td>0.0</td>\n",
              "      <td>0.0</td>\n",
              "      <td>0.0</td>\n",
              "      <td>4.0</td>\n",
              "    </tr>\n",
              "    <tr>\n",
              "      <th>1607</th>\n",
              "      <td>0.973970</td>\n",
              "      <td>0.913232</td>\n",
              "      <td>0.865510</td>\n",
              "      <td>0.823210</td>\n",
              "      <td>0.746204</td>\n",
              "      <td>0.642082</td>\n",
              "      <td>0.547722</td>\n",
              "      <td>0.426247</td>\n",
              "      <td>0.325380</td>\n",
              "      <td>0.279826</td>\n",
              "      <td>...</td>\n",
              "      <td>0.0</td>\n",
              "      <td>0.0</td>\n",
              "      <td>0.0</td>\n",
              "      <td>0.0</td>\n",
              "      <td>0.0</td>\n",
              "      <td>0.0</td>\n",
              "      <td>0.0</td>\n",
              "      <td>0.0</td>\n",
              "      <td>0.0</td>\n",
              "      <td>4.0</td>\n",
              "    </tr>\n",
              "  </tbody>\n",
              "</table>\n",
              "<p>1608 rows × 188 columns</p>\n",
              "</div>"
            ],
            "text/plain": [
              "           0         1         2         3         4         5         6    \\\n",
              "0     1.000000  0.869136  0.540741  0.316049  0.133333  0.103704  0.103704   \n",
              "1     0.736457  0.644217  0.534407  0.418741  0.298682  0.190337  0.118594   \n",
              "2     0.732174  0.620870  0.478261  0.339130  0.194783  0.114783  0.033043   \n",
              "3     1.000000  0.754476  0.473146  0.242967  0.191816  0.189258  0.202046   \n",
              "4     0.975553  0.910361  0.846333  0.772992  0.689173  0.569267  0.434226   \n",
              "...        ...       ...       ...       ...       ...       ...       ...   \n",
              "1603  0.928736  0.871264  0.804598  0.742529  0.650575  0.535632  0.394253   \n",
              "1604  0.802691  0.692078  0.587444  0.446936  0.318386  0.189836  0.118087   \n",
              "1605  1.000000  0.967359  0.620178  0.347181  0.139466  0.089021  0.103858   \n",
              "1606  0.984127  0.567460  0.607143  0.583333  0.607143  0.575397  0.575397   \n",
              "1607  0.973970  0.913232  0.865510  0.823210  0.746204  0.642082  0.547722   \n",
              "\n",
              "           7         8         9    ...  178  179  180  181  182  183  184  \\\n",
              "0     0.108642  0.101235  0.108642  ...  0.0  0.0  0.0  0.0  0.0  0.0  0.0   \n",
              "1     0.071742  0.042460  0.046852  ...  0.0  0.0  0.0  0.0  0.0  0.0  0.0   \n",
              "2     0.019130  0.036522  0.085217  ...  0.0  0.0  0.0  0.0  0.0  0.0  0.0   \n",
              "3     0.209719  0.219949  0.204604  ...  0.0  0.0  0.0  0.0  0.0  0.0  0.0   \n",
              "4     0.292200  0.162980  0.104773  ...  0.0  0.0  0.0  0.0  0.0  0.0  0.0   \n",
              "...        ...       ...       ...  ...  ...  ...  ...  ...  ...  ...  ...   \n",
              "1603  0.250575  0.140230  0.102299  ...  0.0  0.0  0.0  0.0  0.0  0.0  0.0   \n",
              "1604  0.077728  0.112108  0.152466  ...  0.0  0.0  0.0  0.0  0.0  0.0  0.0   \n",
              "1605  0.100890  0.106825  0.100890  ...  0.0  0.0  0.0  0.0  0.0  0.0  0.0   \n",
              "1606  0.488095  0.392857  0.238095  ...  0.0  0.0  0.0  0.0  0.0  0.0  0.0   \n",
              "1607  0.426247  0.325380  0.279826  ...  0.0  0.0  0.0  0.0  0.0  0.0  0.0   \n",
              "\n",
              "      185  186  187  \n",
              "0     0.0  0.0  4.0  \n",
              "1     0.0  0.0  4.0  \n",
              "2     0.0  0.0  4.0  \n",
              "3     0.0  0.0  4.0  \n",
              "4     0.0  0.0  4.0  \n",
              "...   ...  ...  ...  \n",
              "1603  0.0  0.0  4.0  \n",
              "1604  0.0  0.0  4.0  \n",
              "1605  0.0  0.0  4.0  \n",
              "1606  0.0  0.0  4.0  \n",
              "1607  0.0  0.0  4.0  \n",
              "\n",
              "[1608 rows x 188 columns]"
            ]
          },
          "execution_count": 4,
          "metadata": {},
          "output_type": "execute_result"
        }
      ],
      "source": [
        "class_dataframes = {}\n",
        "\n",
        "# Group train_data by class label and store each group in a separate DataFrame\n",
        "for class_label in range(5):  # Assuming there are 5 classes\n",
        "    class_df = test_data[test_data[187] == class_label]\n",
        "    class_dataframes[class_label] = class_df\n",
        "\n",
        "# Access each class DataFrame using the class label as key\n",
        "class_0_df = class_dataframes[0]\n",
        "class_0_df.reset_index(drop=True, inplace=True)\n",
        "\n",
        "class_1_df = class_dataframes[1]\n",
        "class_1_df.reset_index(drop=True, inplace=True)\n",
        "\n",
        "class_2_df = class_dataframes[2]\n",
        "class_2_df.reset_index(drop=True, inplace=True)\n",
        "\n",
        "class_3_df = class_dataframes[3]\n",
        "class_3_df.reset_index(drop=True, inplace=True)\n",
        "\n",
        "class_4_df = class_dataframes[4]\n",
        "class_4_df.reset_index(drop=True, inplace=True)\n",
        "\n",
        "class_4_df"
      ]
    },
    {
      "cell_type": "markdown",
      "metadata": {
        "id": "B5p5AkLXdCf4"
      },
      "source": [
        "**1.4 GENERATING IMAGE DATA FROM HEARTBEAT PLOTS**\n",
        "\n",
        "The plots for the hearbeat samples were used for generating the image data. These were resized into 64X64 images and saved to the respective train/label_{num} and test/label_{num} directories."
      ]
    },
    {
      "cell_type": "code",
      "execution_count": null,
      "metadata": {
        "_kg_hide-input": false,
        "_kg_hide-output": true,
        "execution": {
          "iopub.execute_input": "2024-04-20T20:34:40.100599Z",
          "iopub.status.busy": "2024-04-20T20:34:40.100173Z",
          "iopub.status.idle": "2024-04-20T20:35:23.514295Z",
          "shell.execute_reply": "2024-04-20T20:35:23.512983Z",
          "shell.execute_reply.started": "2024-04-20T20:34:40.100565Z"
        },
        "id": "0pyDJrMiVVYw",
        "nbgrader": {
          "grade": false,
          "locked": true,
          "solution": false
        },
        "trusted": true
      },
      "outputs": [],
      "source": [
        "from PIL import Image\n",
        "\n",
        "# Create folders for each label if they don't exist\n",
        "for label in range(5):\n",
        "    folder_name = f'test/label_{label}_test'\n",
        "    if not os.path.exists(folder_name):\n",
        "        os.makedirs(folder_name)\n",
        "\n",
        "plt.figure(figsize=(20, 10))\n",
        "\n",
        "# Assuming train_data is your DataFrame containing the ECG data\n",
        "\n",
        "\n",
        "for i, idx in enumerate(class_1_df.index, start=1):\n",
        "    folder_name = f'test/label_1_test'  # Folder name for the current label\n",
        "    plt.figure(figsize=(2, 1))\n",
        "    plt.plot(class_1_df.loc[idx])\n",
        "\n",
        "    # Turn off axis\n",
        "    plt.axis('off')\n",
        "\n",
        "    # Convert plot to grayscale\n",
        "    plt.gray()\n",
        "\n",
        "    # Save each plot as an image in the corresponding label folder\n",
        "    plt.savefig(f'{folder_name}/test_{i}.png', bbox_inches='tight', pad_inches=0)  # Adjust file name as needed\n",
        "    image = Image.open(f'{folder_name}/test_{i}.png')\n",
        "\n",
        "# Resize the image\n",
        "    desired_width = 64\n",
        "    desired_height = 64\n",
        "    resized_image = image.resize((desired_width, desired_height))\n",
        "\n",
        "    # Display the resized image (optional)\n",
        "    resized_image.show()\n",
        "    resized_image.save(f'{folder_name}/test_{i}.png')\n",
        "    # Close the current plot to avoid overlapping\n",
        "    plt.close()\n"
      ]
    },
    {
      "cell_type": "markdown",
      "metadata": {
        "id": "zQQb7mk2dCf4"
      },
      "source": [
        "The files were stored as zip for ease of use and creating the dataset"
      ]
    },
    {
      "cell_type": "code",
      "execution_count": null,
      "metadata": {
        "execution": {
          "iopub.execute_input": "2024-04-20T20:35:55.556713Z",
          "iopub.status.busy": "2024-04-20T20:35:55.556328Z",
          "iopub.status.idle": "2024-04-20T20:35:55.691983Z",
          "shell.execute_reply": "2024-04-20T20:35:55.690976Z",
          "shell.execute_reply.started": "2024-04-20T20:35:55.556683Z"
        },
        "trusted": true,
        "id": "K2SoMpOidCf4",
        "outputId": "be77a39e-fd48-4cb0-9135-ae01cf89e063"
      },
      "outputs": [
        {
          "name": "stdout",
          "output_type": "stream",
          "text": [
            "Zip file created: /kaggle/working/test/label_1_test.zip\n"
          ]
        }
      ],
      "source": [
        "import zipfile\n",
        "import os\n",
        "\n",
        "# Define the directory containing the folders to zip\n",
        "base_directory = '/kaggle/working/test'  # Update this with your directory path\n",
        "\n",
        "# Iterate over each folder inside the base directory\n",
        "# for folder_name in os.listdir(base_directory):\n",
        "#     if os.path.isdir(os.path.join(base_directory, folder_name)):\n",
        "        # Define the path for the zip file\n",
        "zip_file_path = f'/kaggle/working/test/label_1_test.zip'\n",
        "\n",
        "# Create a zip file for the current folder\n",
        "with zipfile.ZipFile(zip_file_path, 'w', zipfile.ZIP_DEFLATED) as zipf:\n",
        "    folder_path = os.path.join(base_directory, 'label_1_test')\n",
        "    # Add the contents of the folder to the zip file\n",
        "    for root, dirs, files in os.walk(folder_path):\n",
        "        for file in files:\n",
        "            zipf.write(os.path.join(root, file), os.path.relpath(os.path.join(root, file), folder_path))\n",
        "\n",
        "# Output the zip file path\n",
        "print(f\"Zip file created: {zip_file_path}\")\n",
        "\n"
      ]
    },
    {
      "cell_type": "code",
      "execution_count": null,
      "metadata": {
        "id": "Z1-oX01w5FQn"
      },
      "outputs": [],
      "source": [
        "pip install tensorflow"
      ]
    },
    {
      "cell_type": "markdown",
      "metadata": {
        "id": "3yZR62BBdCf5"
      },
      "source": [
        "**1.5 LOADING THE IMAGE DATA AND CONVERTING TO ARRAYS FOR MODEL TRAINING**\n",
        "\n",
        "\n",
        "The image dataset was converted to array and normalized with pixel values between [0,1]. This was done for both the training and testing dataset.\n",
        "\n",
        "Training : '/kaggle/input/resized-dataset'\n",
        "\n",
        "Testing : '/kaggle/input/resized-dataset-test'"
      ]
    },
    {
      "cell_type": "code",
      "execution_count": null,
      "metadata": {
        "_kg_hide-output": true,
        "execution": {
          "iopub.execute_input": "2024-04-23T06:28:22.368541Z",
          "iopub.status.busy": "2024-04-23T06:28:22.368133Z",
          "iopub.status.idle": "2024-04-23T06:35:49.170942Z",
          "shell.execute_reply": "2024-04-23T06:35:49.170099Z",
          "shell.execute_reply.started": "2024-04-23T06:28:22.368496Z"
        },
        "trusted": true,
        "id": "1gdZP7MMdCf5"
      },
      "outputs": [],
      "source": [
        "import numpy as np\n",
        "import os\n",
        "from tensorflow.keras.preprocessing.image import load_img, img_to_array\n",
        "from tensorflow.keras.utils import to_categorical\n",
        "\n",
        "# Base directory where the label directories are located\n",
        "base_directory = '/kaggle/input/resized-dataset'\n",
        "\n",
        "# Assuming the images are 64x64\n",
        "image_size = (64, 64)\n",
        "num_classes = 5  # Five classes corresponding to labels 0-4\n",
        "\n",
        "# We will determine the total number of images by inspecting the directories\n",
        "num_images = 0\n",
        "for label_num in range(num_classes):\n",
        "    label_directory = os.path.join(base_directory, f'label_{label_num}')\n",
        "    num_images += len(os.listdir(label_directory))\n",
        "\n",
        "# Initialize arrays for storing the images and labels\n",
        "images = np.zeros((num_images, 64, 64, 1), dtype='float32')\n",
        "labels = np.zeros((num_images,), dtype='int')\n",
        "\n",
        "# Load images and labels\n",
        "current_index = 0\n",
        "for label_num in range(num_classes):\n",
        "    label_directory = os.path.join(base_directory, f'label_{label_num}')\n",
        "    print(f'label_{label_num}')\n",
        "    for image_name in os.listdir(label_directory):\n",
        "\n",
        "        image_path = os.path.join(label_directory, image_name)\n",
        "        image = load_img(image_path, color_mode='grayscale',target_size=image_size)\n",
        "        image = img_to_array(image)\n",
        "        image /= 255.0  # Normalize to [0,1]\n",
        "        images[current_index] = image\n",
        "        labels[current_index] = label_num\n",
        "        current_index += 1\n",
        "\n",
        "# Convert labels to categorical (one-hot encoding)\n",
        "labels = to_categorical(labels, num_classes=num_classes)\n",
        "\n",
        "\n"
      ]
    },
    {
      "cell_type": "code",
      "execution_count": null,
      "metadata": {
        "execution": {
          "iopub.execute_input": "2024-04-23T06:36:08.098919Z",
          "iopub.status.busy": "2024-04-23T06:36:08.097691Z",
          "iopub.status.idle": "2024-04-23T06:37:36.801713Z",
          "shell.execute_reply": "2024-04-23T06:37:36.800910Z",
          "shell.execute_reply.started": "2024-04-23T06:36:08.098883Z"
        },
        "trusted": true,
        "id": "Ba-BsxABdCf5"
      },
      "outputs": [],
      "source": [
        "import numpy as np\n",
        "import os\n",
        "from tensorflow.keras.preprocessing.image import load_img, img_to_array\n",
        "from tensorflow.keras.utils import to_categorical\n",
        "\n",
        "# Base directory where the label directories are located\n",
        "test_base_directory = '/kaggle/input/resized-dataset-test'\n",
        "\n",
        "# Assuming the images are 64x64\n",
        "test_image_size = (64, 64)\n",
        "test_num_classes = 5  # Five classes corresponding to labels 0-4\n",
        "\n",
        "# We will determine the total number of images by inspecting the directories\n",
        "test_num_images = 0\n",
        "for label_num in range(test_num_classes):\n",
        "    label_directory = os.path.join(test_base_directory, f'label_{label_num}_test')\n",
        "    test_num_images += len(os.listdir(label_directory))\n",
        "\n",
        "# Initialize arrays for storing the images and labels\n",
        "test_images = np.zeros((test_num_images, 64, 64, 1), dtype='float32')\n",
        "test_labels = np.zeros((test_num_images,), dtype='int')\n",
        "\n",
        "# Load images and labels\n",
        "test_current_index = 0\n",
        "for label_num in range(test_num_classes):\n",
        "    label_directory = os.path.join(test_base_directory, f'label_{label_num}_test')\n",
        "    print(f'label_{label_num}_test')\n",
        "    for image_name in os.listdir(label_directory):\n",
        "\n",
        "        image_path = os.path.join(label_directory, image_name)\n",
        "        image = load_img(image_path, color_mode='grayscale',target_size=test_image_size)\n",
        "        image = img_to_array(image)\n",
        "        image /= 255.0  # Normalize to [0,1]\n",
        "        test_images[test_current_index] = image\n",
        "        test_labels[test_current_index] = label_num\n",
        "        test_current_index += 1\n",
        "\n",
        "# Convert labels to categorical (one-hot encoding)\n",
        "test_labels = to_categorical(test_labels, num_classes=test_num_classes)"
      ]
    },
    {
      "cell_type": "markdown",
      "metadata": {
        "id": "-IICvaQOdCf5"
      },
      "source": [
        "Example output for the normalized image array."
      ]
    },
    {
      "cell_type": "code",
      "execution_count": null,
      "metadata": {
        "execution": {
          "iopub.execute_input": "2024-04-23T06:37:38.707676Z",
          "iopub.status.busy": "2024-04-23T06:37:38.707335Z",
          "iopub.status.idle": "2024-04-23T06:37:38.715574Z",
          "shell.execute_reply": "2024-04-23T06:37:38.714564Z",
          "shell.execute_reply.started": "2024-04-23T06:37:38.707652Z"
        },
        "trusted": true,
        "id": "AcWtH5h9dCf5",
        "outputId": "d4c8978c-b408-442d-be88-2d8792468791"
      },
      "outputs": [
        {
          "data": {
            "text/plain": [
              "array([[1., 0., 0., 0., 0.],\n",
              "       [1., 0., 0., 0., 0.],\n",
              "       [1., 0., 0., 0., 0.],\n",
              "       ...,\n",
              "       [0., 0., 0., 0., 1.],\n",
              "       [0., 0., 0., 0., 1.],\n",
              "       [0., 0., 0., 0., 1.]])"
            ]
          },
          "execution_count": 3,
          "metadata": {},
          "output_type": "execute_result"
        }
      ],
      "source": [
        "test_labels"
      ]
    },
    {
      "cell_type": "code",
      "execution_count": null,
      "metadata": {
        "execution": {
          "iopub.execute_input": "2024-04-23T06:39:41.437841Z",
          "iopub.status.busy": "2024-04-23T06:39:41.437459Z",
          "iopub.status.idle": "2024-04-23T06:39:41.815611Z",
          "shell.execute_reply": "2024-04-23T06:39:41.814762Z",
          "shell.execute_reply.started": "2024-04-23T06:39:41.437812Z"
        },
        "trusted": true,
        "id": "PnAlV_FndCf5",
        "outputId": "fa2d2a6a-6e3e-43b6-8d2e-504b39157850"
      },
      "outputs": [
        {
          "data": {
            "image/png": "[encoded data removed]",
            "text/plain": [
              "<Figure size 640x480 with 2 Axes>"
            ]
          },
          "metadata": {},
          "output_type": "display_data"
        }
      ],
      "source": [
        "import matplotlib.pyplot as plt\n",
        "plt.imshow(images[0], cmap='gray', interpolation='none')  # 'cmap' specifies the color map\n",
        "plt.colorbar()  # Optionally add a color bar to show the mapping of values to colors\n",
        "plt.title('2D Array as Image')\n",
        "plt.show()"
      ]
    },
    {
      "cell_type": "markdown",
      "metadata": {
        "id": "-K3ISILq8qp5"
      },
      "source": [
        "### 2. Prepare your Final Model\n",
        "\n",
        "Here you can have your code to either train (e.g., if you are building it from scratch) your model. These steps may require you to use other packages or python files. You can just call them here. You don't have to include them in your submission. Remember that we will be looking at the saved outputs in the notebooked and we will not run the entire notebook."
      ]
    },
    {
      "cell_type": "code",
      "execution_count": null,
      "metadata": {
        "execution": {
          "iopub.execute_input": "2024-04-23T06:39:34.517795Z",
          "iopub.status.busy": "2024-04-23T06:39:34.517043Z",
          "iopub.status.idle": "2024-04-23T06:39:35.347560Z",
          "shell.execute_reply": "2024-04-23T06:39:35.346645Z",
          "shell.execute_reply.started": "2024-04-23T06:39:34.517755Z"
        },
        "trusted": true,
        "id": "fSO6xfgcdCf6",
        "outputId": "51bf5c45-6d63-4d0f-e194-d503a4820a50"
      },
      "outputs": [
        {
          "name": "stderr",
          "output_type": "stream",
          "text": [
            "/opt/conda/lib/python3.10/site-packages/keras/src/layers/convolutional/base_conv.py:99: UserWarning: Do not pass an `input_shape`/`input_dim` argument to a layer. When using Sequential models, prefer using an `Input(shape)` object as the first layer in the model instead.\n",
            "  super().__init__(\n"
          ]
        },
        {
          "data": {
            "text/html": [
              "<pre style=\"white-space:pre;overflow-x:auto;line-height:normal;font-family:Menlo,'DejaVu Sans Mono',consolas,'Courier New',monospace\"><span style=\"font-weight: bold\">Model: \"sequential\"</span>\n",
              "</pre>\n"
            ],
            "text/plain": [
              "\u001b[1mModel: \"sequential\"\u001b[0m\n"
            ]
          },
          "metadata": {},
          "output_type": "display_data"
        },
        {
          "data": {
            "text/html": [
              "<pre style=\"white-space:pre;overflow-x:auto;line-height:normal;font-family:Menlo,'DejaVu Sans Mono',consolas,'Courier New',monospace\">┏━━━━━━━━━━━━━━━━━━━━━━━━━━━━━━━━━┳━━━━━━━━━━━━━━━━━━━━━━━━┳━━━━━━━━━━━━━━━┓\n",
              "┃<span style=\"font-weight: bold\"> Layer (type)                    </span>┃<span style=\"font-weight: bold\"> Output Shape           </span>┃<span style=\"font-weight: bold\">       Param # </span>┃\n",
              "┡━━━━━━━━━━━━━━━━━━━━━━━━━━━━━━━━━╇━━━━━━━━━━━━━━━━━━━━━━━━╇━━━━━━━━━━━━━━━┩\n",
              "│ conv2d (<span style=\"color: #0087ff; text-decoration-color: #0087ff\">Conv2D</span>)                 │ (<span style=\"color: #00d7ff; text-decoration-color: #00d7ff\">None</span>, <span style=\"color: #00af00; text-decoration-color: #00af00\">64</span>, <span style=\"color: #00af00; text-decoration-color: #00af00\">64</span>, <span style=\"color: #00af00; text-decoration-color: #00af00\">20</span>)     │           <span style=\"color: #00af00; text-decoration-color: #00af00\">100</span> │\n",
              "├─────────────────────────────────┼────────────────────────┼───────────────┤\n",
              "│ max_pooling2d (<span style=\"color: #0087ff; text-decoration-color: #0087ff\">MaxPooling2D</span>)    │ (<span style=\"color: #00d7ff; text-decoration-color: #00d7ff\">None</span>, <span style=\"color: #00af00; text-decoration-color: #00af00\">32</span>, <span style=\"color: #00af00; text-decoration-color: #00af00\">32</span>, <span style=\"color: #00af00; text-decoration-color: #00af00\">20</span>)     │             <span style=\"color: #00af00; text-decoration-color: #00af00\">0</span> │\n",
              "├─────────────────────────────────┼────────────────────────┼───────────────┤\n",
              "│ dropout (<span style=\"color: #0087ff; text-decoration-color: #0087ff\">Dropout</span>)               │ (<span style=\"color: #00d7ff; text-decoration-color: #00d7ff\">None</span>, <span style=\"color: #00af00; text-decoration-color: #00af00\">32</span>, <span style=\"color: #00af00; text-decoration-color: #00af00\">32</span>, <span style=\"color: #00af00; text-decoration-color: #00af00\">20</span>)     │             <span style=\"color: #00af00; text-decoration-color: #00af00\">0</span> │\n",
              "├─────────────────────────────────┼────────────────────────┼───────────────┤\n",
              "│ conv2d_1 (<span style=\"color: #0087ff; text-decoration-color: #0087ff\">Conv2D</span>)               │ (<span style=\"color: #00d7ff; text-decoration-color: #00d7ff\">None</span>, <span style=\"color: #00af00; text-decoration-color: #00af00\">32</span>, <span style=\"color: #00af00; text-decoration-color: #00af00\">32</span>, <span style=\"color: #00af00; text-decoration-color: #00af00\">50</span>)     │         <span style=\"color: #00af00; text-decoration-color: #00af00\">4,050</span> │\n",
              "├─────────────────────────────────┼────────────────────────┼───────────────┤\n",
              "│ max_pooling2d_1 (<span style=\"color: #0087ff; text-decoration-color: #0087ff\">MaxPooling2D</span>)  │ (<span style=\"color: #00d7ff; text-decoration-color: #00d7ff\">None</span>, <span style=\"color: #00af00; text-decoration-color: #00af00\">16</span>, <span style=\"color: #00af00; text-decoration-color: #00af00\">16</span>, <span style=\"color: #00af00; text-decoration-color: #00af00\">50</span>)     │             <span style=\"color: #00af00; text-decoration-color: #00af00\">0</span> │\n",
              "├─────────────────────────────────┼────────────────────────┼───────────────┤\n",
              "│ dropout_1 (<span style=\"color: #0087ff; text-decoration-color: #0087ff\">Dropout</span>)             │ (<span style=\"color: #00d7ff; text-decoration-color: #00d7ff\">None</span>, <span style=\"color: #00af00; text-decoration-color: #00af00\">16</span>, <span style=\"color: #00af00; text-decoration-color: #00af00\">16</span>, <span style=\"color: #00af00; text-decoration-color: #00af00\">50</span>)     │             <span style=\"color: #00af00; text-decoration-color: #00af00\">0</span> │\n",
              "├─────────────────────────────────┼────────────────────────┼───────────────┤\n",
              "│ conv2d_2 (<span style=\"color: #0087ff; text-decoration-color: #0087ff\">Conv2D</span>)               │ (<span style=\"color: #00d7ff; text-decoration-color: #00d7ff\">None</span>, <span style=\"color: #00af00; text-decoration-color: #00af00\">16</span>, <span style=\"color: #00af00; text-decoration-color: #00af00\">16</span>, <span style=\"color: #00af00; text-decoration-color: #00af00\">50</span>)     │        <span style=\"color: #00af00; text-decoration-color: #00af00\">10,050</span> │\n",
              "├─────────────────────────────────┼────────────────────────┼───────────────┤\n",
              "│ max_pooling2d_2 (<span style=\"color: #0087ff; text-decoration-color: #0087ff\">MaxPooling2D</span>)  │ (<span style=\"color: #00d7ff; text-decoration-color: #00d7ff\">None</span>, <span style=\"color: #00af00; text-decoration-color: #00af00\">8</span>, <span style=\"color: #00af00; text-decoration-color: #00af00\">8</span>, <span style=\"color: #00af00; text-decoration-color: #00af00\">50</span>)       │             <span style=\"color: #00af00; text-decoration-color: #00af00\">0</span> │\n",
              "├─────────────────────────────────┼────────────────────────┼───────────────┤\n",
              "│ dropout_2 (<span style=\"color: #0087ff; text-decoration-color: #0087ff\">Dropout</span>)             │ (<span style=\"color: #00d7ff; text-decoration-color: #00d7ff\">None</span>, <span style=\"color: #00af00; text-decoration-color: #00af00\">8</span>, <span style=\"color: #00af00; text-decoration-color: #00af00\">8</span>, <span style=\"color: #00af00; text-decoration-color: #00af00\">50</span>)       │             <span style=\"color: #00af00; text-decoration-color: #00af00\">0</span> │\n",
              "├─────────────────────────────────┼────────────────────────┼───────────────┤\n",
              "│ flatten (<span style=\"color: #0087ff; text-decoration-color: #0087ff\">Flatten</span>)               │ (<span style=\"color: #00d7ff; text-decoration-color: #00d7ff\">None</span>, <span style=\"color: #00af00; text-decoration-color: #00af00\">3200</span>)           │             <span style=\"color: #00af00; text-decoration-color: #00af00\">0</span> │\n",
              "├─────────────────────────────────┼────────────────────────┼───────────────┤\n",
              "│ dense (<span style=\"color: #0087ff; text-decoration-color: #0087ff\">Dense</span>)                   │ (<span style=\"color: #00d7ff; text-decoration-color: #00d7ff\">None</span>, <span style=\"color: #00af00; text-decoration-color: #00af00\">100</span>)            │       <span style=\"color: #00af00; text-decoration-color: #00af00\">320,100</span> │\n",
              "├─────────────────────────────────┼────────────────────────┼───────────────┤\n",
              "│ dense_1 (<span style=\"color: #0087ff; text-decoration-color: #0087ff\">Dense</span>)                 │ (<span style=\"color: #00d7ff; text-decoration-color: #00d7ff\">None</span>, <span style=\"color: #00af00; text-decoration-color: #00af00\">5</span>)              │           <span style=\"color: #00af00; text-decoration-color: #00af00\">505</span> │\n",
              "└─────────────────────────────────┴────────────────────────┴───────────────┘\n",
              "</pre>\n"
            ],
            "text/plain": [
              "┏━━━━━━━━━━━━━━━━━━━━━━━━━━━━━━━━━┳━━━━━━━━━━━━━━━━━━━━━━━━┳━━━━━━━━━━━━━━━┓\n",
              "┃\u001b[1m \u001b[0m\u001b[1mLayer (type)                   \u001b[0m\u001b[1m \u001b[0m┃\u001b[1m \u001b[0m\u001b[1mOutput Shape          \u001b[0m\u001b[1m \u001b[0m┃\u001b[1m \u001b[0m\u001b[1m      Param #\u001b[0m\u001b[1m \u001b[0m┃\n",
              "┡━━━━━━━━━━━━━━━━━━━━━━━━━━━━━━━━━╇━━━━━━━━━━━━━━━━━━━━━━━━╇━━━━━━━━━━━━━━━┩\n",
              "│ conv2d (\u001b[38;5;33mConv2D\u001b[0m)                 │ (\u001b[38;5;45mNone\u001b[0m, \u001b[38;5;34m64\u001b[0m, \u001b[38;5;34m64\u001b[0m, \u001b[38;5;34m20\u001b[0m)     │           \u001b[38;5;34m100\u001b[0m │\n",
              "├─────────────────────────────────┼────────────────────────┼───────────────┤\n",
              "│ max_pooling2d (\u001b[38;5;33mMaxPooling2D\u001b[0m)    │ (\u001b[38;5;45mNone\u001b[0m, \u001b[38;5;34m32\u001b[0m, \u001b[38;5;34m32\u001b[0m, \u001b[38;5;34m20\u001b[0m)     │             \u001b[38;5;34m0\u001b[0m │\n",
              "├─────────────────────────────────┼────────────────────────┼───────────────┤\n",
              "│ dropout (\u001b[38;5;33mDropout\u001b[0m)               │ (\u001b[38;5;45mNone\u001b[0m, \u001b[38;5;34m32\u001b[0m, \u001b[38;5;34m32\u001b[0m, \u001b[38;5;34m20\u001b[0m)     │             \u001b[38;5;34m0\u001b[0m │\n",
              "├─────────────────────────────────┼────────────────────────┼───────────────┤\n",
              "│ conv2d_1 (\u001b[38;5;33mConv2D\u001b[0m)               │ (\u001b[38;5;45mNone\u001b[0m, \u001b[38;5;34m32\u001b[0m, \u001b[38;5;34m32\u001b[0m, \u001b[38;5;34m50\u001b[0m)     │         \u001b[38;5;34m4,050\u001b[0m │\n",
              "├─────────────────────────────────┼────────────────────────┼───────────────┤\n",
              "│ max_pooling2d_1 (\u001b[38;5;33mMaxPooling2D\u001b[0m)  │ (\u001b[38;5;45mNone\u001b[0m, \u001b[38;5;34m16\u001b[0m, \u001b[38;5;34m16\u001b[0m, \u001b[38;5;34m50\u001b[0m)     │             \u001b[38;5;34m0\u001b[0m │\n",
              "├─────────────────────────────────┼────────────────────────┼───────────────┤\n",
              "│ dropout_1 (\u001b[38;5;33mDropout\u001b[0m)             │ (\u001b[38;5;45mNone\u001b[0m, \u001b[38;5;34m16\u001b[0m, \u001b[38;5;34m16\u001b[0m, \u001b[38;5;34m50\u001b[0m)     │             \u001b[38;5;34m0\u001b[0m │\n",
              "├─────────────────────────────────┼────────────────────────┼───────────────┤\n",
              "│ conv2d_2 (\u001b[38;5;33mConv2D\u001b[0m)               │ (\u001b[38;5;45mNone\u001b[0m, \u001b[38;5;34m16\u001b[0m, \u001b[38;5;34m16\u001b[0m, \u001b[38;5;34m50\u001b[0m)     │        \u001b[38;5;34m10,050\u001b[0m │\n",
              "├─────────────────────────────────┼────────────────────────┼───────────────┤\n",
              "│ max_pooling2d_2 (\u001b[38;5;33mMaxPooling2D\u001b[0m)  │ (\u001b[38;5;45mNone\u001b[0m, \u001b[38;5;34m8\u001b[0m, \u001b[38;5;34m8\u001b[0m, \u001b[38;5;34m50\u001b[0m)       │             \u001b[38;5;34m0\u001b[0m │\n",
              "├─────────────────────────────────┼────────────────────────┼───────────────┤\n",
              "│ dropout_2 (\u001b[38;5;33mDropout\u001b[0m)             │ (\u001b[38;5;45mNone\u001b[0m, \u001b[38;5;34m8\u001b[0m, \u001b[38;5;34m8\u001b[0m, \u001b[38;5;34m50\u001b[0m)       │             \u001b[38;5;34m0\u001b[0m │\n",
              "├─────────────────────────────────┼────────────────────────┼───────────────┤\n",
              "│ flatten (\u001b[38;5;33mFlatten\u001b[0m)               │ (\u001b[38;5;45mNone\u001b[0m, \u001b[38;5;34m3200\u001b[0m)           │             \u001b[38;5;34m0\u001b[0m │\n",
              "├─────────────────────────────────┼────────────────────────┼───────────────┤\n",
              "│ dense (\u001b[38;5;33mDense\u001b[0m)                   │ (\u001b[38;5;45mNone\u001b[0m, \u001b[38;5;34m100\u001b[0m)            │       \u001b[38;5;34m320,100\u001b[0m │\n",
              "├─────────────────────────────────┼────────────────────────┼───────────────┤\n",
              "│ dense_1 (\u001b[38;5;33mDense\u001b[0m)                 │ (\u001b[38;5;45mNone\u001b[0m, \u001b[38;5;34m5\u001b[0m)              │           \u001b[38;5;34m505\u001b[0m │\n",
              "└─────────────────────────────────┴────────────────────────┴───────────────┘\n"
            ]
          },
          "metadata": {},
          "output_type": "display_data"
        },
        {
          "data": {
            "text/html": [
              "<pre style=\"white-space:pre;overflow-x:auto;line-height:normal;font-family:Menlo,'DejaVu Sans Mono',consolas,'Courier New',monospace\"><span style=\"font-weight: bold\"> Total params: </span><span style=\"color: #00af00; text-decoration-color: #00af00\">334,805</span> (1.28 MB)\n",
              "</pre>\n"
            ],
            "text/plain": [
              "\u001b[1m Total params: \u001b[0m\u001b[38;5;34m334,805\u001b[0m (1.28 MB)\n"
            ]
          },
          "metadata": {},
          "output_type": "display_data"
        },
        {
          "data": {
            "text/html": [
              "<pre style=\"white-space:pre;overflow-x:auto;line-height:normal;font-family:Menlo,'DejaVu Sans Mono',consolas,'Courier New',monospace\"><span style=\"font-weight: bold\"> Trainable params: </span><span style=\"color: #00af00; text-decoration-color: #00af00\">334,805</span> (1.28 MB)\n",
              "</pre>\n"
            ],
            "text/plain": [
              "\u001b[1m Trainable params: \u001b[0m\u001b[38;5;34m334,805\u001b[0m (1.28 MB)\n"
            ]
          },
          "metadata": {},
          "output_type": "display_data"
        },
        {
          "data": {
            "text/html": [
              "<pre style=\"white-space:pre;overflow-x:auto;line-height:normal;font-family:Menlo,'DejaVu Sans Mono',consolas,'Courier New',monospace\"><span style=\"font-weight: bold\"> Non-trainable params: </span><span style=\"color: #00af00; text-decoration-color: #00af00\">0</span> (0.00 B)\n",
              "</pre>\n"
            ],
            "text/plain": [
              "\u001b[1m Non-trainable params: \u001b[0m\u001b[38;5;34m0\u001b[0m (0.00 B)\n"
            ]
          },
          "metadata": {},
          "output_type": "display_data"
        }
      ],
      "source": [
        "from tensorflow.keras.models import Sequential\n",
        "from tensorflow.keras.layers import Conv2D, MaxPooling2D, Flatten, Dense, Dropout\n",
        "\n",
        "# Create the Sequential model\n",
        "model = Sequential()\n",
        "\n",
        "# Layer 2: Convolutional Layer with 20 filters, a kernel size of 2x2, stride of 1, and 'same' padding\n",
        "model.add(Conv2D(20, kernel_size=(2, 2), strides=(1, 1), padding='same', input_shape=(64, 64, 1), activation='relu'))\n",
        "\n",
        "# Layer 3: Max Pooling Layer with a pool size of 2x2 and stride of 2\n",
        "model.add(MaxPooling2D(pool_size=(2, 2), strides=(2, 2)))\n",
        "model.add(Dropout(0.25))\n",
        "# Layer 4: Convolutional Layer with 50 filters, a kernel size of 2x2, stride of 1, and 'same' padding\n",
        "model.add(Conv2D(50, kernel_size=(2, 2), strides=(1, 1), padding='same', activation='relu'))\n",
        "\n",
        "# Layer 5: Max Pooling Layer with a pool size of 2x2 and stride of 2\n",
        "model.add(MaxPooling2D(pool_size=(2, 2), strides=(2, 2)))\n",
        "model.add(Dropout(0.25))\n",
        "\n",
        "# Layer 6: Convolutional Layer with 100 filters, a kernel size of 2x2, stride of 1, and 'same' padding\n",
        "model.add(Conv2D(50, kernel_size=(2, 2), strides=(1, 1), padding='same', activation='relu'))\n",
        "\n",
        "# Layer 7: Max Pooling Layer with a pool size of 2x2 and stride of 2\n",
        "model.add(MaxPooling2D(pool_size=(2, 2), strides=(2, 2)))\n",
        "model.add(Dropout(0.25))\n",
        "\n",
        "# Flatten the output of the conv layers to feed into the fully connected layer\n",
        "model.add(Flatten())\n",
        "\n",
        "# Layer 8: Fully Connected (Dense) Layer with 500 units\n",
        "model.add(Dense(100, activation='relu'))\n",
        "\n",
        "# Layer 9: Output Layer with 5 units for the output (assuming a classification problem with 5 classes)\n",
        "model.add(Dense(5, activation='softmax'))\n",
        "\n",
        "# Compile the model\n",
        "model.compile(optimizer='adam', loss='categorical_crossentropy', metrics=['accuracy'])\n",
        "\n",
        "# Model Summary\n",
        "model.summary()\n"
      ]
    },
    {
      "cell_type": "markdown",
      "metadata": {
        "id": "1aZ7uYiQdCf6"
      },
      "source": [
        "### 3. Model Performance\n",
        "\n",
        "Make sure to include the following:\n",
        "- Performance on the training set\n",
        "- Performance on the test set\n",
        "- Provide some screenshots of your output (e.g., pictures, text output, or a histogram of predicted values in the case of tabular data). Any visualization of the predictions are welcome."
      ]
    },
    {
      "cell_type": "code",
      "execution_count": null,
      "metadata": {
        "execution": {
          "iopub.execute_input": "2024-04-23T06:39:46.973980Z",
          "iopub.status.busy": "2024-04-23T06:39:46.973639Z",
          "iopub.status.idle": "2024-04-23T06:40:35.435249Z",
          "shell.execute_reply": "2024-04-23T06:40:35.434280Z",
          "shell.execute_reply.started": "2024-04-23T06:39:46.973954Z"
        },
        "trusted": true,
        "id": "u9RqqwB_dCf6",
        "outputId": "437a7fdf-2f82-420c-b2cf-0832cdb96948"
      },
      "outputs": [
        {
          "name": "stdout",
          "output_type": "stream",
          "text": [
            "Epoch 1/4\n",
            "\u001b[1m  34/1563\u001b[0m \u001b[37m━━━━━━━━━━━━━━━━━━━━\u001b[0m \u001b[1m7s\u001b[0m 5ms/step - accuracy: 0.2079 - loss: 1.6469"
          ]
        },
        {
          "name": "stderr",
          "output_type": "stream",
          "text": [
            "WARNING: All log messages before absl::InitializeLog() is called are written to STDERR\n",
            "I0000 00:00:1713854399.244104      84 device_compiler.h:186] Compiled cluster using XLA!  This line is logged at most once for the lifetime of the process.\n",
            "W0000 00:00:1713854399.263800      84 graph_launch.cc:671] Fallback to op-by-op mode because memset node breaks graph update\n"
          ]
        },
        {
          "name": "stdout",
          "output_type": "stream",
          "text": [
            "\u001b[1m1563/1563\u001b[0m \u001b[32m━━━━━━━━━━━━━━━━━━━━\u001b[0m\u001b[37m\u001b[0m \u001b[1m0s\u001b[0m 7ms/step - accuracy: 0.7893 - loss: 0.4733"
          ]
        },
        {
          "name": "stderr",
          "output_type": "stream",
          "text": [
            "W0000 00:00:1713854412.139884      84 graph_launch.cc:671] Fallback to op-by-op mode because memset node breaks graph update\n"
          ]
        },
        {
          "name": "stdout",
          "output_type": "stream",
          "text": [
            "\u001b[1m1563/1563\u001b[0m \u001b[32m━━━━━━━━━━━━━━━━━━━━\u001b[0m\u001b[37m\u001b[0m \u001b[1m22s\u001b[0m 9ms/step - accuracy: 0.7894 - loss: 0.4731 - val_accuracy: 0.9994 - val_loss: 0.0103\n",
            "Epoch 2/4\n",
            "\u001b[1m1563/1563\u001b[0m \u001b[32m━━━━━━━━━━━━━━━━━━━━\u001b[0m\u001b[37m\u001b[0m \u001b[1m7s\u001b[0m 5ms/step - accuracy: 0.9994 - loss: 0.0030 - val_accuracy: 0.9993 - val_loss: 0.0049\n",
            "Epoch 3/4\n",
            "\u001b[1m1563/1563\u001b[0m \u001b[32m━━━━━━━━━━━━━━━━━━━━\u001b[0m\u001b[37m\u001b[0m \u001b[1m7s\u001b[0m 5ms/step - accuracy: 0.9996 - loss: 0.0016 - val_accuracy: 0.9994 - val_loss: 0.0019\n",
            "Epoch 4/4\n",
            "\u001b[1m1563/1563\u001b[0m \u001b[32m━━━━━━━━━━━━━━━━━━━━\u001b[0m\u001b[37m\u001b[0m \u001b[1m7s\u001b[0m 5ms/step - accuracy: 0.9995 - loss: 0.0015 - val_accuracy: 0.9993 - val_loss: 0.0075\n"
          ]
        }
      ],
      "source": [
        "epochs = 4\n",
        "\n",
        "# Shuffle the dataset (important if the data is ordered by class)\n",
        "indices = np.arange(num_images)\n",
        "np.random.shuffle(indices)\n",
        "images = images[indices]\n",
        "labels = labels[indices]\n",
        "test_indices = np.arange(test_num_images)\n",
        "test_images = test_images[test_indices]\n",
        "test_labels = test_labels[test_indices]\n",
        "\n",
        "\n",
        "# Define the CNN model (ensure you have the model definition here)\n",
        "\n",
        "# Train the model\n",
        "history = model.fit(images, labels, batch_size = 64, epochs=epochs, validation_data=(test_images, test_labels))"
      ]
    },
    {
      "cell_type": "markdown",
      "metadata": {
        "id": "hd_mS6NTdCf6"
      },
      "source": [
        "**TRAINING ACCURACY = 0.9995**\n",
        "\n",
        "**TESTING ACCURACY = 0.9993**"
      ]
    },
    {
      "cell_type": "markdown",
      "metadata": {
        "id": "YswKgUWkdCf6"
      },
      "source": [
        "**CLASSFICATION REPORT FOR THE MODEL**"
      ]
    },
    {
      "cell_type": "code",
      "execution_count": null,
      "metadata": {
        "execution": {
          "iopub.execute_input": "2024-04-23T06:40:47.957311Z",
          "iopub.status.busy": "2024-04-23T06:40:47.956450Z",
          "iopub.status.idle": "2024-04-23T06:40:51.774650Z",
          "shell.execute_reply": "2024-04-23T06:40:51.773720Z",
          "shell.execute_reply.started": "2024-04-23T06:40:47.957276Z"
        },
        "trusted": true,
        "id": "Pc4RjIo2dCf6",
        "outputId": "b370ebca-7774-46af-fe55-f23221cd5e39"
      },
      "outputs": [
        {
          "name": "stdout",
          "output_type": "stream",
          "text": [
            "\u001b[1m685/685\u001b[0m \u001b[32m━━━━━━━━━━━━━━━━━━━━\u001b[0m\u001b[37m\u001b[0m \u001b[1m2s\u001b[0m 2ms/step\n",
            "              precision    recall  f1-score   support\n",
            "\n",
            "           0       1.00      1.00      1.00     18117\n",
            "           1       0.98      0.99      0.99       556\n",
            "           2       1.00      1.00      1.00      1448\n",
            "           3       0.99      0.99      0.99       162\n",
            "           4       1.00      1.00      1.00      1608\n",
            "\n",
            "    accuracy                           1.00     21891\n",
            "   macro avg       0.99      1.00      1.00     21891\n",
            "weighted avg       1.00      1.00      1.00     21891\n",
            "\n"
          ]
        }
      ],
      "source": [
        "from sklearn.metrics import classification_report\n",
        "\n",
        "# Make predictions on the test dataset\n",
        "predicted_labels = model.predict(test_images)\n",
        "\n",
        "# Convert predicted probabilities to class labels\n",
        "predicted_classes = np.argmax(predicted_labels, axis=1)\n",
        "\n",
        "# Generate classification report\n",
        "test_labels_class = np.argmax(test_labels,axis=1)\n",
        "report = classification_report(test_labels_class, predicted_classes)\n",
        "print(report)"
      ]
    },
    {
      "cell_type": "markdown",
      "metadata": {
        "id": "ybER_3UpdCf6"
      },
      "source": [
        "**NORMALIZED CONFUSION MATRIX**"
      ]
    },
    {
      "cell_type": "code",
      "execution_count": null,
      "metadata": {
        "execution": {
          "iopub.execute_input": "2024-04-23T06:41:10.355314Z",
          "iopub.status.busy": "2024-04-23T06:41:10.354713Z",
          "iopub.status.idle": "2024-04-23T06:41:10.963008Z",
          "shell.execute_reply": "2024-04-23T06:41:10.962091Z",
          "shell.execute_reply.started": "2024-04-23T06:41:10.355284Z"
        },
        "trusted": true,
        "id": "ZNxvJZqcdCf6",
        "outputId": "548fe87b-5ff3-40c2-be19-4e087f2062d3"
      },
      "outputs": [
        {
          "data": {
            "image/png": "[encoded data removed]",
            "text/plain": [
              "<Figure size 1000x800 with 2 Axes>"
            ]
          },
          "metadata": {},
          "output_type": "display_data"
        }
      ],
      "source": [
        "import seaborn as sns\n",
        "import pandas as pd\n",
        "from sklearn.metrics import confusion_matrix\n",
        "conf_matrix = confusion_matrix(test_labels_class, predicted_classes)\n",
        "\n",
        "row_sums = conf_matrix.sum(axis=1, keepdims=True)\n",
        "\n",
        "# Normalize the confusion matrix\n",
        "normalized_conf_matrix = conf_matrix / row_sums\n",
        "\n",
        "# Plot the normalized confusion matrix using Seaborn's heatmap\n",
        "plt.figure(figsize=(10, 8))\n",
        "sns.heatmap(normalized_conf_matrix, annot=True, cmap='Blues', fmt='.2f', linewidths=1, linecolor='black')\n",
        "plt.title('Normalized Confusion Matrix')\n",
        "plt.xlabel('Predicted Labels')\n",
        "plt.ylabel('True Labels')\n",
        "plt.show()\n"
      ]
    }
  ],
  "metadata": {
    "colab": {
      "provenance": []
    },
    "kaggle": {
      "accelerator": "gpu",
      "dataSources": [
        {
          "datasetId": 4836205,
          "sourceId": 8171487,
          "sourceType": "datasetVersion"
        },
        {
          "datasetId": 4836635,
          "sourceId": 8172060,
          "sourceType": "datasetVersion"
        },
        {
          "datasetId": 4841176,
          "sourceId": 8178124,
          "sourceType": "datasetVersion"
        },
        {
          "datasetId": 4841211,
          "sourceId": 8178189,
          "sourceType": "datasetVersion"
        }
      ],
      "dockerImageVersionId": 30700,
      "isGpuEnabled": true,
      "isInternetEnabled": false,
      "language": "python",
      "sourceType": "notebook"
    },
    "kernelspec": {
      "display_name": "Python 3",
      "language": "python",
      "name": "python3"
    },
    "language_info": {
      "codemirror_mode": {
        "name": "ipython",
        "version": 3
      },
      "file_extension": ".py",
      "mimetype": "text/x-python",
      "name": "python",
      "nbconvert_exporter": "python",
      "pygments_lexer": "ipython3",
      "version": "3.9.10"
    }
  },
  "nbformat": 4,
  "nbformat_minor": 0
}